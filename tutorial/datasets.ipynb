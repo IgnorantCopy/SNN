{
 "cells": [
  {
   "cell_type": "code",
   "id": "initial_id",
   "metadata": {
    "collapsed": true,
    "ExecuteTime": {
     "end_time": "2025-04-21T07:02:38.677544Z",
     "start_time": "2025-04-21T07:02:34.924582Z"
    }
   },
   "source": [
    "import torch\n",
    "from torch.utils.data import Dataset, DataLoader\n",
    "import torchvision.transforms as transforms\n",
    "import pandas as pd\n",
    "import numpy as np\n",
    "import os\n",
    "from PIL import Image"
   ],
   "outputs": [],
   "execution_count": 1
  },
  {
   "metadata": {
    "ExecuteTime": {
     "end_time": "2025-04-21T07:02:38.693122Z",
     "start_time": "2025-04-21T07:02:38.685124Z"
    }
   },
   "cell_type": "code",
   "source": [
    "dataset_root = \"E:/DataSets/flowers\"\n",
    "labels = [\"astilbe\", \"bellflower\", \"black_eyed_susan\", \"calendula\", \"california_poppy\", \"carnation\", \"common_daisy\", \"coreopsis\", \"daffodil\", \"dandelion\", \"iris\", \"magnolia\", \"rose\", \"sunflower\", \"tulip\", \"water_lily\"]"
   ],
   "id": "7a5f2ad0cc42a81",
   "outputs": [],
   "execution_count": 2
  },
  {
   "metadata": {
    "ExecuteTime": {
     "end_time": "2025-04-21T07:02:39.049051Z",
     "start_time": "2025-04-21T07:02:38.973961Z"
    }
   },
   "cell_type": "code",
   "source": [
    "data = []\n",
    "for label in labels:\n",
    "    img_dir = os.path.join(dataset_root, label)\n",
    "    image_names = os.listdir(img_dir)\n",
    "    for image_name in image_names:\n",
    "        img_path = os.path.join(img_dir, image_name)\n",
    "        data.append({\"image_path\": img_path, \"label\": label})\n",
    "data = pd.DataFrame(data)\n",
    "data[\"label\"] = data[\"label\"].map({label: i for i, label in enumerate(labels)})\n",
    "data.head()"
   ],
   "id": "6805c29cc5b24adc",
   "outputs": [
    {
     "data": {
      "text/plain": [
       "                                          image_path  label\n",
       "0  E:/DataSets/flowers\\astilbe\\10091895024_a2ea04...      0\n",
       "1  E:/DataSets/flowers\\astilbe\\1033455028_f0c6518...      0\n",
       "2  E:/DataSets/flowers\\astilbe\\10373087134_927b53...      0\n",
       "3  E:/DataSets/flowers\\astilbe\\1052212431_4963309...      0\n",
       "4  E:/DataSets/flowers\\astilbe\\1052219251_d03970e...      0"
      ],
      "text/html": [
       "<div>\n",
       "<style scoped>\n",
       "    .dataframe tbody tr th:only-of-type {\n",
       "        vertical-align: middle;\n",
       "    }\n",
       "\n",
       "    .dataframe tbody tr th {\n",
       "        vertical-align: top;\n",
       "    }\n",
       "\n",
       "    .dataframe thead th {\n",
       "        text-align: right;\n",
       "    }\n",
       "</style>\n",
       "<table border=\"1\" class=\"dataframe\">\n",
       "  <thead>\n",
       "    <tr style=\"text-align: right;\">\n",
       "      <th></th>\n",
       "      <th>image_path</th>\n",
       "      <th>label</th>\n",
       "    </tr>\n",
       "  </thead>\n",
       "  <tbody>\n",
       "    <tr>\n",
       "      <th>0</th>\n",
       "      <td>E:/DataSets/flowers\\astilbe\\10091895024_a2ea04...</td>\n",
       "      <td>0</td>\n",
       "    </tr>\n",
       "    <tr>\n",
       "      <th>1</th>\n",
       "      <td>E:/DataSets/flowers\\astilbe\\1033455028_f0c6518...</td>\n",
       "      <td>0</td>\n",
       "    </tr>\n",
       "    <tr>\n",
       "      <th>2</th>\n",
       "      <td>E:/DataSets/flowers\\astilbe\\10373087134_927b53...</td>\n",
       "      <td>0</td>\n",
       "    </tr>\n",
       "    <tr>\n",
       "      <th>3</th>\n",
       "      <td>E:/DataSets/flowers\\astilbe\\1052212431_4963309...</td>\n",
       "      <td>0</td>\n",
       "    </tr>\n",
       "    <tr>\n",
       "      <th>4</th>\n",
       "      <td>E:/DataSets/flowers\\astilbe\\1052219251_d03970e...</td>\n",
       "      <td>0</td>\n",
       "    </tr>\n",
       "  </tbody>\n",
       "</table>\n",
       "</div>"
      ]
     },
     "execution_count": 3,
     "metadata": {},
     "output_type": "execute_result"
    }
   ],
   "execution_count": 3
  },
  {
   "metadata": {
    "ExecuteTime": {
     "end_time": "2025-04-21T07:02:39.126658Z",
     "start_time": "2025-04-21T07:02:39.111852Z"
    }
   },
   "cell_type": "code",
   "source": [
    "class FlowerDataset(Dataset):\n",
    "    def __init__(self, data, transform=None):\n",
    "        self.data = data\n",
    "        self.transform = transform\n",
    "\n",
    "    def __len__(self):\n",
    "        return len(self.data)\n",
    "\n",
    "    def __getitem__(self, index):\n",
    "        img_path = self.data.iloc[index][\"image_path\"]\n",
    "        label = self.data.iloc[index][\"label\"]\n",
    "        image = Image.open(img_path)\n",
    "        if self.transform:\n",
    "            image = self.transform(image)\n",
    "        return image, label"
   ],
   "id": "441c2da301d44d8d",
   "outputs": [],
   "execution_count": 4
  },
  {
   "metadata": {
    "ExecuteTime": {
     "end_time": "2025-04-21T07:02:39.204896Z",
     "start_time": "2025-04-21T07:02:39.191961Z"
    }
   },
   "cell_type": "code",
   "source": [
    "transforms = transforms.Compose([\n",
    "    transforms.Resize(256),\n",
    "    transforms.CenterCrop(224),\n",
    "    transforms.RandomRotation(15),\n",
    "    transforms.RandomHorizontalFlip(),\n",
    "    transforms.Lambda(lambda x: x.convert(\"RGB\") if x.mode != \"RGB\" else x),\n",
    "    transforms.ToTensor(),\n",
    "    transforms.Normalize(mean=[0.485, 0.456, 0.406], std=[0.229, 0.224, 0.225])\n",
    "])\n",
    "dataset = FlowerDataset(data, transform=transforms)\n",
    "dataloader = DataLoader(dataset, batch_size=128, shuffle=True)"
   ],
   "id": "7820734fdcadb3e4",
   "outputs": [],
   "execution_count": 5
  },
  {
   "metadata": {
    "ExecuteTime": {
     "end_time": "2025-04-21T07:03:14.561235Z",
     "start_time": "2025-04-21T07:02:39.261905Z"
    }
   },
   "cell_type": "code",
   "source": [
    "for i, (images, labels) in enumerate(dataloader):\n",
    "    print(images.shape, labels.shape)"
   ],
   "id": "ff292cb80c0ffc25",
   "outputs": [
    {
     "name": "stdout",
     "output_type": "stream",
     "text": [
      "torch.Size([128, 3, 224, 224]) torch.Size([128])\n",
      "torch.Size([128, 3, 224, 224]) torch.Size([128])\n",
      "torch.Size([128, 3, 224, 224]) torch.Size([128])\n",
      "torch.Size([128, 3, 224, 224]) torch.Size([128])\n",
      "torch.Size([128, 3, 224, 224]) torch.Size([128])\n",
      "torch.Size([128, 3, 224, 224]) torch.Size([128])\n",
      "torch.Size([128, 3, 224, 224]) torch.Size([128])\n",
      "torch.Size([128, 3, 224, 224]) torch.Size([128])\n",
      "torch.Size([128, 3, 224, 224]) torch.Size([128])\n",
      "torch.Size([128, 3, 224, 224]) torch.Size([128])\n",
      "torch.Size([128, 3, 224, 224]) torch.Size([128])\n",
      "torch.Size([128, 3, 224, 224]) torch.Size([128])\n",
      "torch.Size([128, 3, 224, 224]) torch.Size([128])\n",
      "torch.Size([128, 3, 224, 224]) torch.Size([128])\n",
      "torch.Size([128, 3, 224, 224]) torch.Size([128])\n",
      "torch.Size([128, 3, 224, 224]) torch.Size([128])\n",
      "torch.Size([128, 3, 224, 224]) torch.Size([128])\n",
      "torch.Size([128, 3, 224, 224]) torch.Size([128])\n",
      "torch.Size([128, 3, 224, 224]) torch.Size([128])\n",
      "torch.Size([128, 3, 224, 224]) torch.Size([128])\n",
      "torch.Size([128, 3, 224, 224]) torch.Size([128])\n",
      "torch.Size([128, 3, 224, 224]) torch.Size([128])\n",
      "torch.Size([128, 3, 224, 224]) torch.Size([128])\n",
      "torch.Size([128, 3, 224, 224]) torch.Size([128])\n",
      "torch.Size([128, 3, 224, 224]) torch.Size([128])\n",
      "torch.Size([128, 3, 224, 224]) torch.Size([128])\n",
      "torch.Size([128, 3, 224, 224]) torch.Size([128])\n",
      "torch.Size([128, 3, 224, 224]) torch.Size([128])\n",
      "torch.Size([128, 3, 224, 224]) torch.Size([128])\n",
      "torch.Size([128, 3, 224, 224]) torch.Size([128])\n",
      "torch.Size([128, 3, 224, 224]) torch.Size([128])\n",
      "torch.Size([128, 3, 224, 224]) torch.Size([128])\n",
      "torch.Size([128, 3, 224, 224]) torch.Size([128])\n",
      "torch.Size([128, 3, 224, 224]) torch.Size([128])\n",
      "torch.Size([128, 3, 224, 224]) torch.Size([128])\n",
      "torch.Size([128, 3, 224, 224]) torch.Size([128])\n",
      "torch.Size([128, 3, 224, 224]) torch.Size([128])\n",
      "torch.Size([128, 3, 224, 224]) torch.Size([128])\n",
      "torch.Size([128, 3, 224, 224]) torch.Size([128])\n",
      "torch.Size([128, 3, 224, 224]) torch.Size([128])\n",
      "torch.Size([128, 3, 224, 224]) torch.Size([128])\n",
      "torch.Size([128, 3, 224, 224]) torch.Size([128])\n",
      "torch.Size([128, 3, 224, 224]) torch.Size([128])\n",
      "torch.Size([128, 3, 224, 224]) torch.Size([128])\n",
      "torch.Size([128, 3, 224, 224]) torch.Size([128])\n",
      "torch.Size([128, 3, 224, 224]) torch.Size([128])\n",
      "torch.Size([128, 3, 224, 224]) torch.Size([128])\n",
      "torch.Size([128, 3, 224, 224]) torch.Size([128])\n",
      "torch.Size([128, 3, 224, 224]) torch.Size([128])\n",
      "torch.Size([128, 3, 224, 224]) torch.Size([128])\n",
      "torch.Size([128, 3, 224, 224]) torch.Size([128])\n",
      "torch.Size([128, 3, 224, 224]) torch.Size([128])\n",
      "torch.Size([128, 3, 224, 224]) torch.Size([128])\n",
      "torch.Size([128, 3, 224, 224]) torch.Size([128])\n",
      "torch.Size([128, 3, 224, 224]) torch.Size([128])\n",
      "torch.Size([128, 3, 224, 224]) torch.Size([128])\n",
      "torch.Size([128, 3, 224, 224]) torch.Size([128])\n",
      "torch.Size([128, 3, 224, 224]) torch.Size([128])\n",
      "torch.Size([128, 3, 224, 224]) torch.Size([128])\n",
      "torch.Size([128, 3, 224, 224]) torch.Size([128])\n",
      "torch.Size([128, 3, 224, 224]) torch.Size([128])\n",
      "torch.Size([128, 3, 224, 224]) torch.Size([128])\n",
      "torch.Size([128, 3, 224, 224]) torch.Size([128])\n",
      "torch.Size([128, 3, 224, 224]) torch.Size([128])\n",
      "torch.Size([128, 3, 224, 224]) torch.Size([128])\n",
      "torch.Size([128, 3, 224, 224]) torch.Size([128])\n",
      "torch.Size([128, 3, 224, 224]) torch.Size([128])\n",
      "torch.Size([128, 3, 224, 224]) torch.Size([128])\n",
      "torch.Size([128, 3, 224, 224]) torch.Size([128])\n",
      "torch.Size([128, 3, 224, 224]) torch.Size([128])\n",
      "torch.Size([128, 3, 224, 224]) torch.Size([128])\n",
      "torch.Size([128, 3, 224, 224]) torch.Size([128])\n",
      "torch.Size([128, 3, 224, 224]) torch.Size([128])\n",
      "torch.Size([128, 3, 224, 224]) torch.Size([128])\n",
      "torch.Size([128, 3, 224, 224]) torch.Size([128])\n",
      "torch.Size([128, 3, 224, 224]) torch.Size([128])\n",
      "torch.Size([128, 3, 224, 224]) torch.Size([128])\n",
      "torch.Size([128, 3, 224, 224]) torch.Size([128])\n",
      "torch.Size([128, 3, 224, 224]) torch.Size([128])\n",
      "torch.Size([128, 3, 224, 224]) torch.Size([128])\n",
      "torch.Size([128, 3, 224, 224]) torch.Size([128])\n",
      "torch.Size([128, 3, 224, 224]) torch.Size([128])\n",
      "torch.Size([128, 3, 224, 224]) torch.Size([128])\n",
      "torch.Size([128, 3, 224, 224]) torch.Size([128])\n",
      "torch.Size([128, 3, 224, 224]) torch.Size([128])\n",
      "torch.Size([128, 3, 224, 224]) torch.Size([128])\n",
      "torch.Size([128, 3, 224, 224]) torch.Size([128])\n",
      "torch.Size([128, 3, 224, 224]) torch.Size([128])\n",
      "torch.Size([128, 3, 224, 224]) torch.Size([128])\n",
      "torch.Size([128, 3, 224, 224]) torch.Size([128])\n",
      "torch.Size([128, 3, 224, 224]) torch.Size([128])\n",
      "torch.Size([128, 3, 224, 224]) torch.Size([128])\n",
      "torch.Size([128, 3, 224, 224]) torch.Size([128])\n",
      "torch.Size([128, 3, 224, 224]) torch.Size([128])\n",
      "torch.Size([128, 3, 224, 224]) torch.Size([128])\n",
      "torch.Size([128, 3, 224, 224]) torch.Size([128])\n",
      "torch.Size([128, 3, 224, 224]) torch.Size([128])\n",
      "torch.Size([128, 3, 224, 224]) torch.Size([128])\n",
      "torch.Size([128, 3, 224, 224]) torch.Size([128])\n",
      "torch.Size([128, 3, 224, 224]) torch.Size([128])\n",
      "torch.Size([128, 3, 224, 224]) torch.Size([128])\n",
      "torch.Size([128, 3, 224, 224]) torch.Size([128])\n",
      "torch.Size([128, 3, 224, 224]) torch.Size([128])\n",
      "torch.Size([128, 3, 224, 224]) torch.Size([128])\n",
      "torch.Size([128, 3, 224, 224]) torch.Size([128])\n",
      "torch.Size([128, 3, 224, 224]) torch.Size([128])\n",
      "torch.Size([128, 3, 224, 224]) torch.Size([128])\n",
      "torch.Size([128, 3, 224, 224]) torch.Size([128])\n",
      "torch.Size([128, 3, 224, 224]) torch.Size([128])\n",
      "torch.Size([128, 3, 224, 224]) torch.Size([128])\n",
      "torch.Size([128, 3, 224, 224]) torch.Size([128])\n",
      "torch.Size([128, 3, 224, 224]) torch.Size([128])\n",
      "torch.Size([128, 3, 224, 224]) torch.Size([128])\n",
      "torch.Size([128, 3, 224, 224]) torch.Size([128])\n",
      "torch.Size([128, 3, 224, 224]) torch.Size([128])\n",
      "torch.Size([128, 3, 224, 224]) torch.Size([128])\n",
      "torch.Size([128, 3, 224, 224]) torch.Size([128])\n",
      "torch.Size([128, 3, 224, 224]) torch.Size([128])\n",
      "torch.Size([128, 3, 224, 224]) torch.Size([128])\n",
      "torch.Size([128, 3, 224, 224]) torch.Size([128])\n",
      "torch.Size([128, 3, 224, 224]) torch.Size([128])\n",
      "torch.Size([128, 3, 224, 224]) torch.Size([128])\n",
      "torch.Size([124, 3, 224, 224]) torch.Size([124])\n"
     ]
    }
   ],
   "execution_count": 6
  },
  {
   "metadata": {
    "ExecuteTime": {
     "end_time": "2025-04-21T07:03:14.607528Z",
     "start_time": "2025-04-21T07:03:14.594985Z"
    }
   },
   "cell_type": "code",
   "source": "",
   "id": "4867cd4f921886ce",
   "outputs": [],
   "execution_count": null
  }
 ],
 "metadata": {
  "kernelspec": {
   "display_name": "Python 3",
   "language": "python",
   "name": "python3"
  },
  "language_info": {
   "codemirror_mode": {
    "name": "ipython",
    "version": 2
   },
   "file_extension": ".py",
   "mimetype": "text/x-python",
   "name": "python",
   "nbconvert_exporter": "python",
   "pygments_lexer": "ipython2",
   "version": "2.7.6"
  }
 },
 "nbformat": 4,
 "nbformat_minor": 5
}
